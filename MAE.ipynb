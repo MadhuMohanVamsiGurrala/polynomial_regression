{
 "cells": [
  {
   "cell_type": "code",
   "execution_count": 1,
   "id": "9b71e9a1",
   "metadata": {},
   "outputs": [
    {
     "name": "stdout",
     "output_type": "stream",
     "text": [
      "Mean absolute error : 5.555555555555555\n"
     ]
    }
   ],
   "source": [
    "#MAE\n",
    "actual = [5,11,37,9,21,48,33,25,12]\n",
    "predicted = [10,19,32,9,30,43,21,22,15]\n",
    "n = 9\n",
    "sum = 0\n",
    "for i in range(n):\n",
    "    sum += abs(actual[i] - predicted[i])\n",
    "MAE = sum/n\n",
    "print(\"Mean absolute error : \" + str(MAE))"
   ]
  },
  {
   "cell_type": "code",
   "execution_count": null,
   "id": "168ab466",
   "metadata": {},
   "outputs": [],
   "source": []
  }
 ],
 "metadata": {
  "kernelspec": {
   "display_name": "Python 3 (ipykernel)",
   "language": "python",
   "name": "python3"
  },
  "language_info": {
   "codemirror_mode": {
    "name": "ipython",
    "version": 3
   },
   "file_extension": ".py",
   "mimetype": "text/x-python",
   "name": "python",
   "nbconvert_exporter": "python",
   "pygments_lexer": "ipython3",
   "version": "3.9.13"
  }
 },
 "nbformat": 4,
 "nbformat_minor": 5
}
