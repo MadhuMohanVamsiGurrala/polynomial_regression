{
 "cells": [
  {
   "cell_type": "code",
   "execution_count": 1,
   "id": "8b54740b",
   "metadata": {},
   "outputs": [
    {
     "name": "stdout",
     "output_type": "stream",
     "text": [
      "The Mean Square Error is: 0.2\n",
      "The Mean Square Error is: 1.0\n",
      "The Mean Square Error is: 1.05\n",
      "The Mean Square Error is: 1.25\n",
      "The Mean Square Error is: 1.45\n"
     ]
    }
   ],
   "source": [
    "y = [11,20,19,17,10]\n",
    "y_bar = [12,18,19.5,18,9]\n",
    "summation = 0 #variable to store the summation of differences\n",
    "n = len(y) #finding total number of items in list\n",
    "for i in range(0,n): #looping through each element of the list\n",
    "    difference = y[i] - y_bar[i] #finding the difference between observed and predicted value\n",
    "    squared_difference = difference**2 #taking square of the difference\n",
    "    summation = summation + squared_difference #taking a sum of all the difference\n",
    "    MSE = summation/n #dividing summation by total values to obtain average\n",
    "    print(\"The Mean Square Error is:\",MSE)"
   ]
  },
  {
   "cell_type": "code",
   "execution_count": 1,
   "id": "80551675",
   "metadata": {},
   "outputs": [
    {
     "name": "stdout",
     "output_type": "stream",
     "text": [
      "Mean Square Error: 42.44444444444444\n"
     ]
    }
   ],
   "source": [
    "#MSE\n",
    "import numpy as np\n",
    "actual = [5,11,37,9,21,48,33,25,12]\n",
    "predicted = [10,19,32,9,30,43,21,22,15] \n",
    "diff=np.subtract(actual,predicted)\n",
    "square=np.square(diff)\n",
    "MSE=square.mean()\n",
    "print(\"Mean Square Error:\", MSE)"
   ]
  },
  {
   "cell_type": "code",
   "execution_count": null,
   "id": "9ef10fa0",
   "metadata": {},
   "outputs": [],
   "source": []
  }
 ],
 "metadata": {
  "kernelspec": {
   "display_name": "Python 3 (ipykernel)",
   "language": "python",
   "name": "python3"
  },
  "language_info": {
   "codemirror_mode": {
    "name": "ipython",
    "version": 3
   },
   "file_extension": ".py",
   "mimetype": "text/x-python",
   "name": "python",
   "nbconvert_exporter": "python",
   "pygments_lexer": "ipython3",
   "version": "3.9.13"
  }
 },
 "nbformat": 4,
 "nbformat_minor": 5
}
