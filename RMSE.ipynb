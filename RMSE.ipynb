{
 "cells": [
  {
   "cell_type": "code",
   "execution_count": 1,
   "id": "45c5c72c",
   "metadata": {},
   "outputs": [
    {
     "name": "stdout",
     "output_type": "stream",
     "text": [
      "Root Mean Square Error: 6.5149400952306875\n"
     ]
    }
   ],
   "source": [
    "#RMSE\n",
    "import numpy as np\n",
    "actual = [5,11,37,9,21,48,33,25,12]\n",
    "predicted = [10,19,32,9,30,43,21,22,15] \n",
    "diff=np.subtract(actual,predicted)\n",
    "square=np.square(diff)\n",
    "MSE=square.mean()\n",
    "RMSE=np.sqrt(MSE)\n",
    "print(\"Root Mean Square Error:\", RMSE)"
   ]
  },
  {
   "cell_type": "code",
   "execution_count": null,
   "id": "b6277cf7",
   "metadata": {},
   "outputs": [],
   "source": []
  }
 ],
 "metadata": {
  "kernelspec": {
   "display_name": "Python 3 (ipykernel)",
   "language": "python",
   "name": "python3"
  },
  "language_info": {
   "codemirror_mode": {
    "name": "ipython",
    "version": 3
   },
   "file_extension": ".py",
   "mimetype": "text/x-python",
   "name": "python",
   "nbconvert_exporter": "python",
   "pygments_lexer": "ipython3",
   "version": "3.9.13"
  }
 },
 "nbformat": 4,
 "nbformat_minor": 5
}
